{
 "cells": [
  {
   "cell_type": "markdown",
   "id": "7da1a821-23d9-4fe1-ac1a-dea2bd93ad67",
   "metadata": {},
   "source": [
    "Гениальнейший алгоритм построения матрицы с функциями сложения элементов её подматриц и обновления элементов:"
   ]
  },
  {
   "cell_type": "code",
   "execution_count": 40,
   "id": "5cdcd1c5-cb5b-4a97-9f57-ffc967c40278",
   "metadata": {},
   "outputs": [
    {
     "name": "stdout",
     "output_type": "stream",
     "text": [
      "196\n"
     ]
    }
   ],
   "source": [
    "def F(i):\n",
    "    return i&(i+1)\n",
    "    \n",
    "def BT(a, m, n): #строить дерево Фенвика\n",
    "    T = [[0 for i in range(n)] for j in range(m)]\n",
    "    for i in range(m):\n",
    "        for j in range(n):\n",
    "            for k in range(F(i), i+1):\n",
    "                for q in range (F(j), j+1):\n",
    "                    T[i][j] += a[k][q]\n",
    "    return T\n",
    "\n",
    "def sm1(x, y, T): # суммирует элементы от начального до (x,y) (нумерация с 0,0)\n",
    "    i = y \n",
    "    j = x\n",
    "    res = 0\n",
    "    while i >= 0:\n",
    "        while j >= 0:\n",
    "            res += T[i][j]\n",
    "            j = F(j) - 1\n",
    "        i = F(i) - 1\n",
    "        j = y\n",
    "    return res\n",
    "\n",
    "def sm2(x1, y1, x2, y2, T): #суммирует с (x1,y1) до (x2,y2)\n",
    "    return sm1(x2, y2, T) - sm1(x1 - 1, y2, T) - sm1(x2, y1 - 1, T) + sm1(x1 - 1, y1 - 1, T)\n",
    "\n",
    "def set_up(T, a, x, y, num): #заменяет элемент (x,y) на num\n",
    "    d = num - a[x][y]\n",
    "    m = len(T)\n",
    "    n = len(T[0])\n",
    "    i = x\n",
    "    j = y\n",
    "    while i <= m:\n",
    "        while j <= n:\n",
    "            T[i][j] += d\n",
    "            j = j|(j+1)\n",
    "        i = i|(i+1)\n",
    "        j = y\n",
    "    return T\n",
    "    \n",
    "m, n = 8, 8\n",
    "a = [[i for i in range(n)] for j in range(m)]\n",
    "T = BT(a, m, n)\n",
    "T = set_up(T, a, 1, 1, 1)\n",
    "print(sm2(1, 1, 7, 7, T))"
   ]
  },
  {
   "cell_type": "markdown",
   "id": "d427d0a2-f65d-4221-a82b-13c64310f75d",
   "metadata": {},
   "source": [
    "Алгоритм нахождения количества инверсий в массиве (ещё и с выводом отсортированного массива) за O( nlog(n) )"
   ]
  },
  {
   "cell_type": "code",
   "execution_count": 19,
   "id": "1ea67ad7-a350-4640-b85f-7ef7f177b9f1",
   "metadata": {},
   "outputs": [
    {
     "name": "stdout",
     "output_type": "stream",
     "text": [
      "[1, 2, 3, 4, 5] 3\n"
     ]
    }
   ],
   "source": [
    "# алгоритм подсмотрен на https://education.yandex.ru/handbook/algorithms/article/podschet-inversij\n",
    "\n",
    "def Merge(LeftHalf, RightHalf):\n",
    "    SortedList = []\n",
    "    inversions = 0\n",
    "    while LeftHalf  and RightHalf:\n",
    "        l = LeftHalf[0]\n",
    "        r = RightHalf[0]\n",
    "        if l <= r:\n",
    "            SortedList.append(l)\n",
    "            LeftHalf.pop(0)\n",
    "        else:\n",
    "            SortedList.append(r)\n",
    "            RightHalf.pop(0)                \n",
    "            inversions += len(LeftHalf)\n",
    "    SortedList = SortedList + LeftHalf + RightHalf\n",
    "    return SortedList, inversions\n",
    "\n",
    "def CountInversions(List):\n",
    "    if len(List) <= 1:\n",
    "        return List, 0\n",
    "    else:\n",
    "        m = len(List)//2\n",
    "        LeftHalf = List[:m]\n",
    "        RightHalf = List[m:]\n",
    "        LeftHalf, leftInv = CountInversions(LeftHalf)\n",
    "        RightHalf, rightInv = CountInversions(RightHalf)\n",
    "        List, splitInv = Merge(LeftHalf, RightHalf)\n",
    "        return List, leftInv + rightInv + splitInv\n",
    "\n",
    "List = [2, 4, 1, 3, 5]\n",
    "sortedList, inversions = CountInversions(List)\n",
    "print(sortedList, inversions)"
   ]
  },
  {
   "cell_type": "code",
   "execution_count": null,
   "id": "776fa4dd-c4b5-4a8c-aa65-c8fe6623920d",
   "metadata": {},
   "outputs": [],
   "source": [
    "Нахождение k-й статистики на отрезке массива (алгоритм либо является деревом отрезков, либо сильно на него похож, разбирали его \n",
    "на лекции - нахождене по медианам медиан)"
   ]
  },
  {
   "cell_type": "code",
   "execution_count": 39,
   "id": "02a5037c-0fa1-4b34-9c90-a5d5c55c2880",
   "metadata": {},
   "outputs": [
    {
     "name": "stdout",
     "output_type": "stream",
     "text": [
      "K'th smallest element is 19\n"
     ]
    }
   ],
   "source": [
    "def kth_smallest(arr, l, r, k):\n",
    "    if k > 0 and k <= r - l + 1:\n",
    "        n = r - l + 1\n",
    "        medians = []\n",
    "        i = 0\n",
    "        \n",
    "        while i < n // 5:\n",
    "            medians.append(find_median(arr, l + i * 5, 5))\n",
    "            i += 1\n",
    "        \n",
    "        if i * 5 < n:\n",
    "            medians.append(find_median(arr, l + i * 5, n % 5))\n",
    "        \n",
    "        med_of_med = medians[0] if len(medians) == 1 else kth_smallest(medians, 0, len(medians) - 1, len(medians) // 2)\n",
    "        pos = partition(arr, l, r, med_of_med)\n",
    "        \n",
    "        if pos - l == k - 1:\n",
    "            return arr[pos]\n",
    "        if pos - l > k - 1:\n",
    "            return kth_smallest(arr, l, pos - 1, k)\n",
    "        \n",
    "        return kth_smallest(arr, pos + 1, r, k - pos + l - 1)\n",
    "    \n",
    "    return float('inf')\n",
    "\n",
    "def partition(arr, l, r, x):\n",
    "    for i in range(l, r):\n",
    "        if arr[i] == x:\n",
    "            arr[r], arr[i] = arr[i], arr[r]\n",
    "            break            \n",
    "    x = arr[r]\n",
    "    i = l\n",
    "    for j in range(l, r):\n",
    "        if arr[j] <= x:\n",
    "            arr[i], arr[j] = arr[j], arr[i]\n",
    "            i += 1\n",
    "    arr[r], arr[i] = arr[i], arr[r]\n",
    "    return i\n",
    "\n",
    "def find_median(arr, l, n):\n",
    "    lis = sorted(arr[l : l + n])\n",
    "    return lis[n // 2]\n",
    "\n",
    "arr = [12, 3, 5, 7, 4, 19, 26]\n",
    "k = 3\n",
    "print(\"K'th smallest element is\", kth_smallest(arr, 3, len(arr) - 1, k))"
   ]
  }
 ],
 "metadata": {
  "kernelspec": {
   "display_name": "Python 3 (ipykernel)",
   "language": "python",
   "name": "python3"
  },
  "language_info": {
   "codemirror_mode": {
    "name": "ipython",
    "version": 3
   },
   "file_extension": ".py",
   "mimetype": "text/x-python",
   "name": "python",
   "nbconvert_exporter": "python",
   "pygments_lexer": "ipython3",
   "version": "3.10.12"
  }
 },
 "nbformat": 4,
 "nbformat_minor": 5
}
