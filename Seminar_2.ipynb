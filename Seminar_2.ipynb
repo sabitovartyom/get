{
 "cells": [
  {
   "cell_type": "code",
   "execution_count": 13,
   "id": "f6a66cfb-0381-4235-8c8c-51ecf506a305",
   "metadata": {},
   "outputs": [
    {
     "name": "stdout",
     "output_type": "stream",
     "text": [
      "7\n"
     ]
    }
   ],
   "source": [
    "def build_tree(a):\n",
    "    n = len(a)\n",
    "    tree = {}\n",
    "    for i in range(n):\n",
    "        tree[n + i] = a[i]\n",
    "    for i in range(n - 1, 0, -1):\n",
    "        tree[i] = max(tree[2 * i], tree[2 * i + 1])\n",
    "    return tree\n",
    "\n",
    "def mx_tree(a, l, r):\n",
    "    tree = build_tree(a)\n",
    "    n = len(a)\n",
    "    mx = 0\n",
    "    l += n\n",
    "    r += n\n",
    "    while l < r:\n",
    "        if (l & 1) > 0:\n",
    "            mx = max(mx, tree[l])\n",
    "            l += 1\n",
    "        if (r & 1) > 0:\n",
    "            r -= 1\n",
    "            mx = max(mx, tree[r])\n",
    "        l = l // 2\n",
    "        r = r // 2\n",
    "    return mx\n",
    "\n",
    "print(mx_tree([1,7,6,9,3,5,7], 1, 3))"
   ]
  },
  {
   "cell_type": "code",
   "execution_count": 12,
   "id": "0896aa3e-8908-4206-81f9-c5833db5e93e",
   "metadata": {},
   "outputs": [
    {
     "name": "stdout",
     "output_type": "stream",
     "text": [
      "3\n"
     ]
    }
   ],
   "source": [
    "from math import gcd\n",
    "# было лень писать для двух переменных\n",
    "\n",
    "def build_tree(a):\n",
    "    n = len(a)\n",
    "    tree = {}\n",
    "    for i in range(n):\n",
    "        tree[n + i] = a[i]\n",
    "    for i in range(n - 1, 0, -1):\n",
    "        tree[i] = math.gcd(tree[2 * i], tree[2 * i + 1])\n",
    "    return tree\n",
    "\n",
    "def gd_tree(a, l, r):\n",
    "    tree = build_tree(a)\n",
    "    n = len(a)\n",
    "    gd = a[l-1]\n",
    "    l += n\n",
    "    r += n\n",
    "    while l < r:\n",
    "        if (l & 1) > 0:\n",
    "            gd = math.gcd(gd, tree[l])\n",
    "            l += 1\n",
    "        if (r & 1) > 0:\n",
    "            r -= 1\n",
    "            gd = math.gcd(gd, tree[r])\n",
    "        l = l // 2\n",
    "        r = r // 2\n",
    "    return gd\n",
    "\n",
    "print(gd_tree([1,7,6,9,3,5,7], 3, 5))"
   ]
  }
 ],
 "metadata": {
  "kernelspec": {
   "display_name": "Python 3 (ipykernel)",
   "language": "python",
   "name": "python3"
  },
  "language_info": {
   "codemirror_mode": {
    "name": "ipython",
    "version": 3
   },
   "file_extension": ".py",
   "mimetype": "text/x-python",
   "name": "python",
   "nbconvert_exporter": "python",
   "pygments_lexer": "ipython3",
   "version": "3.10.12"
  }
 },
 "nbformat": 4,
 "nbformat_minor": 5
}
