{
 "cells": [
  {
   "cell_type": "code",
   "execution_count": 19,
   "id": "884854f5-ff19-437d-8bb1-e495ee415c4b",
   "metadata": {},
   "outputs": [
    {
     "name": "stdout",
     "output_type": "stream",
     "text": [
      "{0: [1], 1: [0, 2, 4], 2: [1, 3], 3: [2, 5], 4: [1], 5: [3]}\n",
      "True\n"
     ]
    }
   ],
   "source": [
    "def adjacent(a, n):\n",
    "    g = {key: [] for key in range(n)}\n",
    "    for i in a:\n",
    "        g[i[0]].append(i[1])\n",
    "        g[i[1]].append(i[0])\n",
    "    return g\n",
    "\n",
    "        \n",
    "def dfs(start, visited, prev, g):\n",
    "    visited[start] = True\n",
    "    for u in g[start]:\n",
    "        if not visited[u]:\n",
    "            prev[u] = start \n",
    "            dfs(u, visited, prev, g)\n",
    "    \n",
    "n = 6\n",
    "visited = [False] * n\n",
    "prev = [None] * n\n",
    "g = adjacent([[0, 1], [1, 2], [2, 3], [3, 5], [4, 1]], n)\n",
    "\n",
    "dfs(0, visited, prev, g)\n",
    "\n",
    "if False in visited:\n",
    "    print(False)\n",
    "else:\n",
    "    print(True)"
   ]
  },
  {
   "cell_type": "code",
   "execution_count": 21,
   "id": "1ff3ba52-92b3-46f4-9a56-1e19b816fdda",
   "metadata": {},
   "outputs": [
    {
     "name": "stdout",
     "output_type": "stream",
     "text": [
      "[True, True, True, True, False, True]\n",
      "False\n"
     ]
    }
   ],
   "source": [
    "def adjacent(a, n):\n",
    "    g = {key: [] for key in range(n)}\n",
    "    for i in a:\n",
    "        g[i[0]].append(i[1])\n",
    "    return g\n",
    "\n",
    "        \n",
    "def dfs(start, visited, prev, g):\n",
    "    visited[start] = True\n",
    "    for u in g[start]:\n",
    "        if not visited[u]:\n",
    "            prev[u] = start \n",
    "            dfs(u, visited, prev, g)\n",
    "    \n",
    "n = 6\n",
    "visited = [False] * n\n",
    "prev = [None] * n\n",
    "g = adjacent([[0, 1], [1, 2], [2, 3], [3, 5], [4, 1]], n)\n",
    "\n",
    "start = 0\n",
    "end = 4\n",
    "dfs(start, visited, prev, g)\n",
    "\n",
    "if visited[end] == False:\n",
    "    print(False)\n",
    "else:\n",
    "    print(True)"
   ]
  },
  {
   "cell_type": "code",
   "execution_count": 34,
   "id": "3a8f0b87-7b08-49dd-82de-43ba58b3c535",
   "metadata": {},
   "outputs": [
    {
     "name": "stdout",
     "output_type": "stream",
     "text": [
      "['DEL', 'FRA', 'HKG', 'DXB']\n"
     ]
    }
   ],
   "source": [
    "a = {'HKG': 'DXB', 'FRA': 'HKG', 'DEL': 'FRA'}\n",
    "n = len(a)\n",
    "prev = list(a.keys())\n",
    "next = [a[i] for i in prev]\n",
    "\n",
    "for i in prev:\n",
    "    if i not in next:\n",
    "        start = i\n",
    "\n",
    "route = [start]\n",
    "for i in range(n):\n",
    "    route.append(a[route[-1]])\n",
    "\n",
    "print(route)"
   ]
  },
  {
   "cell_type": "code",
   "execution_count": 41,
   "id": "3af5dc3e-c2cb-4d7a-9dd0-15bf6f1b6fd7",
   "metadata": {},
   "outputs": [
    {
     "name": "stdout",
     "output_type": "stream",
     "text": [
      "False\n"
     ]
    }
   ],
   "source": [
    "def adjacent(a, n):\n",
    "    g = {key: [] for key in range(n)}\n",
    "    for i in a:\n",
    "        g[i[0]].append(i[1])\n",
    "        g[i[1]].append(i[0])\n",
    "    return g\n",
    "\n",
    "def dfs(start, visited, prev, g, cycle_check):\n",
    "    visited[start] = True\n",
    "    for u in g[start]:\n",
    "        if visited[u] and (u != prev[start] or cycle_check[0] == 0):\n",
    "            cycle_check[0] = 0\n",
    "            return\n",
    "        elif not visited[u]:\n",
    "            prev[u] = start\n",
    "            dfs(u, visited, prev, g, cycle_check)\n",
    "    \n",
    "n = 6\n",
    "visited = [False] * n\n",
    "prev = [None] * n\n",
    "flag = True\n",
    "g = adjacent([[0, 1], [1, 2], [2, 3], [3, 1], [4, 1]], n)\n",
    "\n",
    "for start in range(n):\n",
    "    if not visited[start]:\n",
    "        cycle_check = [1]\n",
    "        dfs(start, visited, prev, g, cycle_check)\n",
    "        if cycle_check[0] == 0:\n",
    "            flag = False\n",
    "            break\n",
    "\n",
    "print(flag)"
   ]
  },
  {
   "cell_type": "code",
   "execution_count": null,
   "id": "de469dad-afea-4238-860a-b8072a109917",
   "metadata": {},
   "outputs": [],
   "source": []
  }
 ],
 "metadata": {
  "kernelspec": {
   "display_name": "Python 3 (ipykernel)",
   "language": "python",
   "name": "python3"
  },
  "language_info": {
   "codemirror_mode": {
    "name": "ipython",
    "version": 3
   },
   "file_extension": ".py",
   "mimetype": "text/x-python",
   "name": "python",
   "nbconvert_exporter": "python",
   "pygments_lexer": "ipython3",
   "version": "3.10.12"
  }
 },
 "nbformat": 4,
 "nbformat_minor": 5
}
